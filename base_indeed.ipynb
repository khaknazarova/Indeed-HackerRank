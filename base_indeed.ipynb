{
 "cells": [
  {
   "cell_type": "code",
   "execution_count": 1,
   "metadata": {
    "collapsed": true
   },
   "outputs": [],
   "source": [
    "import pandas as pd\n",
    "import numpy as np\n",
    "from sklearn.metrics import f1_score, recall_score, precision_score\n",
    "from sklearn.model_selection import train_test_split\n",
    "from nltk.stem.snowball import SnowballStemmer"
   ]
  },
  {
   "cell_type": "code",
   "execution_count": 2,
   "metadata": {
    "collapsed": false
   },
   "outputs": [
    {
     "data": {
      "text/html": [
       "<div>\n",
       "<table border=\"1\" class=\"dataframe\">\n",
       "  <thead>\n",
       "    <tr style=\"text-align: right;\">\n",
       "      <th></th>\n",
       "      <th>tags</th>\n",
       "      <th>description</th>\n",
       "    </tr>\n",
       "  </thead>\n",
       "  <tbody>\n",
       "    <tr>\n",
       "      <th>0</th>\n",
       "      <td>licence-needed supervising-job 5-plus-years-ex...</td>\n",
       "      <td>THE COMPANY    Employer is a midstream service...</td>\n",
       "    </tr>\n",
       "    <tr>\n",
       "      <th>1</th>\n",
       "      <td>2-4-years-experience-needed salary full-time-job</td>\n",
       "      <td>ICR Staffing is now accepting resumes for Indu...</td>\n",
       "    </tr>\n",
       "    <tr>\n",
       "      <th>2</th>\n",
       "      <td>part-time-job</td>\n",
       "      <td>This is a great position for the right person....</td>\n",
       "    </tr>\n",
       "    <tr>\n",
       "      <th>3</th>\n",
       "      <td>licence-needed</td>\n",
       "      <td>A large multi-specialty health center is expan...</td>\n",
       "    </tr>\n",
       "    <tr>\n",
       "      <th>4</th>\n",
       "      <td>5-plus-years-experience-needed full-time-job b...</td>\n",
       "      <td>JOB PURPOSE:    The Account Director is respon...</td>\n",
       "    </tr>\n",
       "  </tbody>\n",
       "</table>\n",
       "</div>"
      ],
      "text/plain": [
       "                                                tags  \\\n",
       "0  licence-needed supervising-job 5-plus-years-ex...   \n",
       "1   2-4-years-experience-needed salary full-time-job   \n",
       "2                                      part-time-job   \n",
       "3                                     licence-needed   \n",
       "4  5-plus-years-experience-needed full-time-job b...   \n",
       "\n",
       "                                         description  \n",
       "0  THE COMPANY    Employer is a midstream service...  \n",
       "1  ICR Staffing is now accepting resumes for Indu...  \n",
       "2  This is a great position for the right person....  \n",
       "3  A large multi-specialty health center is expan...  \n",
       "4  JOB PURPOSE:    The Account Director is respon...  "
      ]
     },
     "execution_count": 2,
     "metadata": {},
     "output_type": "execute_result"
    }
   ],
   "source": [
    "data = pd.read_csv('train.tsv',sep='\\t')\n",
    "tags = [\"part-time-job\", \"full-time-job\", \"hourly-wage\", \"salary\", \"associate-needed\", \"bs-degree-needed\", \"ms-or-phd-needed\", \"licence-needed\", \"1-year-experience-needed\", \"2-4-years-experience-needed\", \"5-plus-years-experience-needed\", \"supervising-job\"]\n",
    "data.head()"
   ]
  },
  {
   "cell_type": "code",
   "execution_count": 3,
   "metadata": {
    "collapsed": false
   },
   "outputs": [],
   "source": [
    "for index, row in data.iterrows():   \n",
    "    row.description = row.description.lower()"
   ]
  },
  {
   "cell_type": "code",
   "execution_count": 4,
   "metadata": {
    "collapsed": false
   },
   "outputs": [],
   "source": [
    "y = []\n",
    "\n",
    "for tag in tags:\n",
    "    y_curr = []\n",
    "    for tags_list in data.tags:\n",
    "        if (type(tags_list) != float) and (tag in tags_list):\n",
    "            y_curr.append(1)\n",
    "        else:\n",
    "            y_curr.append(0)\n",
    "    y.append(y_curr)\n",
    "y = np.array(y).T"
   ]
  },
  {
   "cell_type": "markdown",
   "metadata": {},
   "source": [
    "The same score function as used at HackerRank contest"
   ]
  },
  {
   "cell_type": "code",
   "execution_count": 10,
   "metadata": {
    "collapsed": true
   },
   "outputs": [],
   "source": [
    "def score(predictions, true_values):\n",
    "    if predictions.shape != true_values.shape:\n",
    "        print 'Error: dimensions must be the same'\n",
    "        return\n",
    "    STP, SFP, STN, SFN = 0, 0, 0, 0\n",
    "    for i in xrange(len(tags)):\n",
    "        STP += sum([1 if true_values[j,i]==1 and predictions[j,i]==1 else 0 for j in xrange(len(predictions))])\n",
    "        SFP += sum([1 if true_values[j,i]==0 and predictions[j,i]==1 else 0 for j in xrange(len(predictions))])\n",
    "        STN += sum([1 if true_values[j,i]==0 and predictions[j,i]==0 else 0 for j in xrange(len(predictions))])\n",
    "        SFN += sum([1 if true_values[j,i]==1 and predictions[j,i]==0 else 0 for j in xrange(len(predictions))])\n",
    "    P = float(STP)/(STP+SFP)\n",
    "    R = float(STP)/(STP+SFN)\n",
    "    return P, R, 2*P*R/(P+R)"
   ]
  },
  {
   "cell_type": "code",
   "execution_count": 5,
   "metadata": {
    "collapsed": true
   },
   "outputs": [],
   "source": [
    "lookup = [[\"part time\", \"part-time\"], [\"full time\", \"full-time\"], [\"hourly\", \"hour\"], \n",
    "          [\"salary\"], [\"associate\"], [\"bachelor\", \" bs \", \"/bs \" \" bs/\"], [\"master\", \"phd\"], \n",
    "          [\"licence\", \"license\", \"certif\", \"eligible\"], [\"1 year\", \"one year\"], \n",
    "          [\"2 years\" , \"3 years\" ,\"4 years\", \"two years\" , \"three years\" ,\"four years\", \"2+ years\", \"3+ years\", \"4+ years\"], \n",
    "          [\"5 years\", \"5+ years\", \"five years\", \"0 years\"], [\"supervi\", \"manager\"]]"
   ]
  },
  {
   "cell_type": "code",
   "execution_count": 6,
   "metadata": {
    "collapsed": false
   },
   "outputs": [],
   "source": [
    "predictions = np.zeros_like(y)\n",
    "for i,descrip in enumerate(data.description):\n",
    "    for j,keywords in enumerate(lookup):\n",
    "        for word in keywords:\n",
    "            if word in descrip:\n",
    "                predictions[i,j] = 1"
   ]
  },
  {
   "cell_type": "code",
   "execution_count": 7,
   "metadata": {
    "collapsed": false
   },
   "outputs": [
    {
     "name": "stdout",
     "output_type": "stream",
     "text": [
      "[0 1 1 1 0 0 0 0 0 0 1 1]\n",
      "[0 1 0 1 0 0 0 0 0 1 0 0]\n"
     ]
    }
   ],
   "source": [
    "print predictions[1]\n",
    "print y[1]"
   ]
  },
  {
   "cell_type": "code",
   "execution_count": 8,
   "metadata": {
    "collapsed": false
   },
   "outputs": [
    {
     "data": {
      "text/plain": [
       "'icr staffing is now accepting resumes for industrial maintenance mechanics. this is an experienced position, requiring prior hands-on, working experience. successful candidates will possess a positive, high-energy and professional attitude with a strong desire to work and achieve. the position is located in the southern california, inland-empire, is full-time and offers a starting salary of 43 - 53k per year, d.o.e. this position is temp-to-hire, though for highly qualified candidates there is potential for direct hire to include benefits.  successful maintenance mechanics will possess\\xe2\\x80\\xa6  \\xe2\\x80\\xa6 3-5 years hands-on, manufacturing  or plastics industry experience.  \\xe2\\x80\\xa6 knowledge and experience with; hydraulics, pneumatics, pumps, valves, cylinders, scales, conveyors.  \\xe2\\x80\\xa6 electrical knowledge of; ac/dc motor controls and drives, control circuitry.   \\xe2\\x80\\xa6 ability to read schematics, maintain electrical systems up to 480v 3-phase, run conduit and pull wire.  \\xe2\\x80\\xa6 ability to perform plc troubleshooting  \\xe2\\x80\\xa6 knowledge of welding (s/s, mig, tig), fabrication and use of machine shop equipment  \\xe2\\x80\\xa6 ability to work nights and/or compressed/ alternate workweeks, which may involve 10-12 hour shifts  \\xe2\\x80\\xa6 a high-energy, safety-conscious work ethic.  \\xe2\\x80\\xa6 a courteous, professional attitude.  \\xe2\\x80\\xa6 excellent communication skills; verbal and written, as well as, with internal & external customers; management, peers, customers and vendors.  \\xe2\\x80\\xa6 a prior work history that demonstrates dependable work performance and attendance.  \\xe2\\x80\\xa6 ability to receive direction and carry out assigned tasks with minimal supervisor intervention.  \\xe2\\x80\\xa6 critical thinking skills and a troubleshooting approach to equipment maintenance.  \\xe2\\x80\\xa6 ability to work well with other team members or on an individual basis, based on the assigned task.  \\xe2\\x80\\xa6 a \\xe2\\x80\\x98team-oriented\\xe2\\x80\\x99 mind-set with a willingness to perform other tasks and to do \\xe2\\x80\\x98whatever it takes\\xe2\\x80\\x99 to get the job done.  \\xe2\\x80\\xa6 ability to safely lift 40-50 lbs, continually during the course of a shift and up to 75 lbs on an infrequent basis, as required   additional details:  interested applicants will be asked to complete an application for employment. upon completion we will determine level of experience.  if an applicant meets the necessary qualification(s) we may invite you to complete the remainder of the process.  drug test and background will be completed on site. the full application and screening process, on average, can take up to two hours.  please be sure to arrive prepared and dressed appropriately for an interview (we ask that candidates not arrive in any of the following; no sandals/flip-flops, no shorts or workout attire, no tank-tops/sleeve-less shirts or dresses and no hats or headgear).  to complete the process applicants must satisfy the federal i-9, employment verification requirement. applicants must provide an id/ ids which establish identity and eligibility to work in the united states.  if you do not meet these requirements you may be asked to return at a later date.'"
      ]
     },
     "execution_count": 8,
     "metadata": {},
     "output_type": "execute_result"
    }
   ],
   "source": [
    "data.description[1]"
   ]
  },
  {
   "cell_type": "code",
   "execution_count": 12,
   "metadata": {
    "collapsed": false
   },
   "outputs": [
    {
     "name": "stdout",
     "output_type": "stream",
     "text": [
      "recall 0.489067656766 precision 0.689244186047 f1_score 0.572152509653\n"
     ]
    }
   ],
   "source": [
    "print 'recall %s precision %s f1_score %s' %score(predictions, y)"
   ]
  },
  {
   "cell_type": "code",
   "execution_count": null,
   "metadata": {
    "collapsed": true
   },
   "outputs": [],
   "source": [
    " "
   ]
  }
 ],
 "metadata": {
  "kernelspec": {
   "display_name": "Python 2",
   "language": "python",
   "name": "python2"
  },
  "language_info": {
   "codemirror_mode": {
    "name": "ipython",
    "version": 2
   },
   "file_extension": ".py",
   "mimetype": "text/x-python",
   "name": "python",
   "nbconvert_exporter": "python",
   "pygments_lexer": "ipython2",
   "version": "2.7.12"
  }
 },
 "nbformat": 4,
 "nbformat_minor": 2
}
