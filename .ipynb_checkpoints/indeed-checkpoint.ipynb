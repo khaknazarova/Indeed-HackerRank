{
 "cells": [
  {
   "cell_type": "code",
   "execution_count": 2,
   "metadata": {
    "collapsed": false
   },
   "outputs": [],
   "source": [
    "import pandas as pd\n",
    "import numpy as np\n",
    "from sklearn.feature_extraction.text import TfidfTransformer, CountVectorizer, TfidfVectorizer\n",
    "from sklearn.linear_model import LogisticRegression\n",
    "from sklearn.svm import LinearSVC\n",
    "from sklearn.model_selection import cross_val_score\n",
    "from sklearn.cross_validation import train_test_split\n",
    "from sklearn.metrics import *\n",
    "from sklearn.pipeline import Pipeline\n",
    "from nltk.stem.snowball import SnowballStemmer \n",
    "import warnings\n",
    "warnings.filterwarnings('ignore')"
   ]
  },
  {
   "cell_type": "code",
   "execution_count": 3,
   "metadata": {
    "collapsed": false
   },
   "outputs": [
    {
     "data": {
      "text/html": [
       "<div>\n",
       "<table border=\"1\" class=\"dataframe\">\n",
       "  <thead>\n",
       "    <tr style=\"text-align: right;\">\n",
       "      <th></th>\n",
       "      <th>tags</th>\n",
       "      <th>description</th>\n",
       "    </tr>\n",
       "  </thead>\n",
       "  <tbody>\n",
       "    <tr>\n",
       "      <th>0</th>\n",
       "      <td>licence-needed supervising-job 5-plus-years-ex...</td>\n",
       "      <td>THE COMPANY    Employer is a midstream service...</td>\n",
       "    </tr>\n",
       "    <tr>\n",
       "      <th>1</th>\n",
       "      <td>2-4-years-experience-needed salary full-time-job</td>\n",
       "      <td>ICR Staffing is now accepting resumes for Indu...</td>\n",
       "    </tr>\n",
       "    <tr>\n",
       "      <th>2</th>\n",
       "      <td>part-time-job</td>\n",
       "      <td>This is a great position for the right person....</td>\n",
       "    </tr>\n",
       "    <tr>\n",
       "      <th>3</th>\n",
       "      <td>licence-needed</td>\n",
       "      <td>A large multi-specialty health center is expan...</td>\n",
       "    </tr>\n",
       "    <tr>\n",
       "      <th>4</th>\n",
       "      <td>5-plus-years-experience-needed full-time-job b...</td>\n",
       "      <td>JOB PURPOSE:    The Account Director is respon...</td>\n",
       "    </tr>\n",
       "  </tbody>\n",
       "</table>\n",
       "</div>"
      ],
      "text/plain": [
       "                                                tags  \\\n",
       "0  licence-needed supervising-job 5-plus-years-ex...   \n",
       "1   2-4-years-experience-needed salary full-time-job   \n",
       "2                                      part-time-job   \n",
       "3                                     licence-needed   \n",
       "4  5-plus-years-experience-needed full-time-job b...   \n",
       "\n",
       "                                         description  \n",
       "0  THE COMPANY    Employer is a midstream service...  \n",
       "1  ICR Staffing is now accepting resumes for Indu...  \n",
       "2  This is a great position for the right person....  \n",
       "3  A large multi-specialty health center is expan...  \n",
       "4  JOB PURPOSE:    The Account Director is respon...  "
      ]
     },
     "execution_count": 3,
     "metadata": {},
     "output_type": "execute_result"
    }
   ],
   "source": [
    "data = pd.read_csv('train.tsv',sep='\\t')\n",
    "tags = [\"part-time-job\", \"full-time-job\", \"hourly-wage\", \"salary\", \"associate-needed\", \"bs-degree-needed\", \"ms-or-phd-needed\", \"licence-needed\", \"1-year-experience-needed\", \"2-4-years-experience-needed\", \"5-plus-years-experience-needed\", \"supervising-job\"]\n",
    "data.head()"
   ]
  },
  {
   "cell_type": "markdown",
   "metadata": {
    "collapsed": false
   },
   "source": [
    "#### Preprocessing data"
   ]
  },
  {
   "cell_type": "code",
   "execution_count": 4,
   "metadata": {
    "collapsed": false
   },
   "outputs": [],
   "source": [
    "sno = SnowballStemmer(language='english')\n",
    "\n",
    "for index, row in data.iterrows():   \n",
    "    row.description = row.description.lower()\n",
    "    row.description = row.description.split(' ')\n",
    "    temp_list = []\n",
    "    for word in row.description:\n",
    "        temp_list.append(sno.stem(word.decode('utf-8')))\n",
    "    row.description = ' '.join(temp_list)"
   ]
  },
  {
   "cell_type": "code",
   "execution_count": 5,
   "metadata": {
    "collapsed": false
   },
   "outputs": [],
   "source": [
    "y = []\n",
    "\n",
    "for tag in tags:\n",
    "    y_curr = []\n",
    "    for tags_list in data.tags:\n",
    "        if (type(tags_list) != float) and (tag in tags_list):\n",
    "            y_curr.append(1)\n",
    "        else:\n",
    "            y_curr.append(0)\n",
    "    y.append(y_curr)\n",
    "y = np.array(y).T"
   ]
  },
  {
   "cell_type": "markdown",
   "metadata": {},
   "source": [
    "Unfortunaltely, the Indeed contest has already finished, so I have to use train dataset for both: training and evaluation. Also the implementation my own funtion for evaluation models is below. This is the same as was used during the contest. "
   ]
  },
  {
   "cell_type": "code",
   "execution_count": 6,
   "metadata": {
    "collapsed": false
   },
   "outputs": [],
   "source": [
    "X_train, X_test, y_train, y_test = train_test_split(data.description, y, test_size=0.2)"
   ]
  },
  {
   "cell_type": "code",
   "execution_count": 7,
   "metadata": {
    "collapsed": false
   },
   "outputs": [],
   "source": [
    "def score(predictions, true_values, tags):\n",
    "    if predictions.shape != true_values.shape:\n",
    "        print 'Error: dimensions must be the same'\n",
    "        return\n",
    "    STP, SFP, STN, SFN = 0, 0, 0, 0\n",
    "    for i in xrange(len(tags)):\n",
    "        STP += sum([1 if true_values[j,i]==1 and predictions[j,i]==1 else 0 for j in xrange(len(predictions))])\n",
    "        SFP += sum([1 if true_values[j,i]==0 and predictions[j,i]==1 else 0 for j in xrange(len(predictions))])\n",
    "        STN += sum([1 if true_values[j,i]==0 and predictions[j,i]==0 else 0 for j in xrange(len(predictions))])\n",
    "        SFN += sum([1 if true_values[j,i]==1 and predictions[j,i]==0 else 0 for j in xrange(len(predictions))])\n",
    "    P = float(STP)/(STP+SFP)\n",
    "    R = float(STP)/(STP+SFN)\n",
    "    return P, R, 2*P*R/(P+R)"
   ]
  },
  {
   "cell_type": "markdown",
   "metadata": {},
   "source": [
    "### LinearSVC"
   ]
  },
  {
   "cell_type": "code",
   "execution_count": 8,
   "metadata": {
    "collapsed": false
   },
   "outputs": [],
   "source": [
    "def CV_score(clf_pipeline, num_cv=10):\n",
    "    predictions = []\n",
    "    cross_val_scores = []\n",
    "    for i,t in enumerate(tags):\n",
    "        curr_score = cross_val_score(clf_pipeline, X_train, y_train[:,i], scoring='f1', cv=num_cv, n_jobs=-1).mean()\n",
    "        cross_val_scores.append(curr_score)\n",
    "    return sum(cross_val_scores)/len(cross_val_scores)"
   ]
  },
  {
   "cell_type": "code",
   "execution_count": 9,
   "metadata": {
    "collapsed": false
   },
   "outputs": [],
   "source": [
    "choose_C = [5,6,7,8,9,10,11,12]\n",
    "choose_use_idf = [False] #True doesn't help\n",
    "\n",
    "best_score = 0\n",
    "best_params = {}\n",
    "for c in choose_C:\n",
    "    for use_idf in choose_use_idf:\n",
    "        clf_pipeline = Pipeline(\n",
    "                [(\"vectorizer\", CountVectorizer(ngram_range=(1,3))),\n",
    "                (\"tfidf\", TfidfTransformer(use_idf=use_idf)),\n",
    "                (\"classifier\", LinearSVC(C=c))]\n",
    "            )\n",
    "        current_score = CV_score(clf_pipeline, num_cv=5)\n",
    "        \n",
    "        if best_score < current_score:\n",
    "            best_score = current_score\n",
    "            best_params = {'C': c, 'use_idf': use_idf}"
   ]
  },
  {
   "cell_type": "code",
   "execution_count": 10,
   "metadata": {
    "collapsed": false
   },
   "outputs": [
    {
     "name": "stdout",
     "output_type": "stream",
     "text": [
      "best average score on CV is 0.421795632206 with params {'use_idf': False, 'C': 10}\n"
     ]
    }
   ],
   "source": [
    "print 'best average score on CV is % s with params %s' % (best_score, best_params)"
   ]
  },
  {
   "cell_type": "code",
   "execution_count": 11,
   "metadata": {
    "collapsed": false
   },
   "outputs": [],
   "source": [
    "def predict_y_test(clf_pipeline):\n",
    "    predictions = []\n",
    "    for i,t in enumerate(tags):\n",
    "        clf_pipeline.fit(X_train, y_train[:,i])\n",
    "        predictions.append(clf_pipeline.predict(X_test))\n",
    "    predictions = np.array(predictions).T\n",
    "    return predictions, score(predictions, y_test, tags)"
   ]
  },
  {
   "cell_type": "code",
   "execution_count": 14,
   "metadata": {
    "collapsed": false
   },
   "outputs": [
    {
     "name": "stdout",
     "output_type": "stream",
     "text": [
      "precision 0.633579725449 recall 0.443131462334 f1-score 0.521512385919\n"
     ]
    }
   ],
   "source": [
    "clf_pipeline = Pipeline(\n",
    "                [(\"vectorizer\", CountVectorizer(ngram_range=(1,3))),\n",
    "                (\"tfidf\", TfidfTransformer(use_idf=best_params['use_idf'])),\n",
    "                (\"classifier\", LinearSVC(C=best_params['C']))])\n",
    "    \n",
    "predictions, score_test = predict_y_test(clf_pipeline)\n",
    "\n",
    "print 'precision %s recall %s f1-score %s' % score_test"
   ]
  },
  {
   "cell_type": "markdown",
   "metadata": {},
   "source": [
    "### Multi classification"
   ]
  },
  {
   "cell_type": "code",
   "execution_count": 15,
   "metadata": {
    "collapsed": true
   },
   "outputs": [],
   "source": [
    "tags_job = [0, 1]\n",
    "tags_edu = [5, 6]\n",
    "tags_exp = [8, 9, 10]"
   ]
  },
  {
   "cell_type": "code",
   "execution_count": 16,
   "metadata": {
    "collapsed": true
   },
   "outputs": [],
   "source": [
    "def predict_multi(tags_subset, clf_pipeline):\n",
    "    predictions = []\n",
    "    y_curr_tags = np.zeros(y_train.shape[0])\n",
    "    y_curr_tags_test = np.zeros(y_test.shape[0])\n",
    "    \n",
    "    for i, tag_number in enumerate(tags_subset):\n",
    "        for j in xrange(y_train.shape[0]):\n",
    "            if y_train[j, tag_number] == 1:\n",
    "                y_curr_tags[j] = i+1\n",
    "        \n",
    "        for j in xrange(y_test.shape[0]):\n",
    "            if y_test[j, tag_number] == 1:\n",
    "                y_curr_tags_test[j] = i+1\n",
    "        \n",
    "        \n",
    "    clf_pipeline.fit(X_train, y_curr_tags)\n",
    "\n",
    "    predictions = clf_pipeline.predict(X_test)\n",
    "    \n",
    "    predictions_binary = np.zeros((len(y_test), len(tags_subset)))\n",
    "    for i, pr in enumerate(predictions):\n",
    "        if pr == 1:\n",
    "            predictions_binary[i, 0] = 1\n",
    "        if pr == 2:\n",
    "            predictions_binary[i, 1] = 1\n",
    "        if (len(tags_subset) == 3) and (pr == 3):\n",
    "            predictions_binary[i, 2] = 1\n",
    "    \n",
    "    local_score = score(predictions_binary, y_test[:, tags_subset[0]:tags_subset[-1]+1], tags_subset)\n",
    "    \n",
    "    return predictions_binary, local_score"
   ]
  },
  {
   "cell_type": "code",
   "execution_count": 21,
   "metadata": {
    "collapsed": false
   },
   "outputs": [
    {
     "name": "stdout",
     "output_type": "stream",
     "text": [
      "job local f1-score: (0.643312101910828, 0.42083333333333334, 0.5088161209068011)\n"
     ]
    }
   ],
   "source": [
    "# tags_job\n",
    "clf_pipeline_multi_job = Pipeline(\n",
    "            [(\"vectorizer\", CountVectorizer(ngram_range=(1,3))),\n",
    "            (\"tfidf\", TfidfTransformer(use_idf=False)),\n",
    "            (\"classifier\", LinearSVC(C=10))]\n",
    "        )\n",
    "predictions_job, local_score = predict_multi(tags_job, clf_pipeline_multi_job)\n",
    "print 'job local f1-score:', local_score"
   ]
  },
  {
   "cell_type": "code",
   "execution_count": 22,
   "metadata": {
    "collapsed": false
   },
   "outputs": [
    {
     "name": "stdout",
     "output_type": "stream",
     "text": [
      "education local f1-score: (0.7487684729064039, 0.7638190954773869, 0.7562189054726368)\n"
     ]
    }
   ],
   "source": [
    "# tags_edu\n",
    "clf_pipeline_multi_edu = Pipeline(\n",
    "            [(\"vectorizer\", CountVectorizer(ngram_range=(1,3))),\n",
    "            (\"tfidf\", TfidfTransformer(use_idf=False)),\n",
    "            (\"classifier\", LinearSVC(C=10))]\n",
    "        )\n",
    "\n",
    "predictions_edu, local_score = predict_multi(tags_edu, clf_pipeline_multi_edu)\n",
    "print 'education local f1-score:', local_score"
   ]
  },
  {
   "cell_type": "code",
   "execution_count": 23,
   "metadata": {
    "collapsed": false
   },
   "outputs": [
    {
     "name": "stdout",
     "output_type": "stream",
     "text": [
      "experience local f1-score (0.4835443037974684, 0.4775, 0.4805031446540881)\n"
     ]
    }
   ],
   "source": [
    "# tags_experience\n",
    "clf_pipeline_multi_exp = Pipeline(\n",
    "            [(\"vectorizer\", CountVectorizer(ngram_range=(1,3))),\n",
    "            (\"tfidf\", TfidfTransformer(use_idf=False)),\n",
    "            (\"classifier\", LinearSVC(C=10))]\n",
    "        )\n",
    "predictions_exp, local_score = predict_multi(tags_exp, clf_pipeline_multi_exp)\n",
    "print 'experience local f1-score', local_score"
   ]
  },
  {
   "cell_type": "markdown",
   "metadata": {},
   "source": [
    "Look at every feature as a binary feature. Which of them has a bad score?\n",
    "Аnd let's find the most important feature."
   ]
  },
  {
   "cell_type": "code",
   "execution_count": 25,
   "metadata": {
    "collapsed": false
   },
   "outputs": [
    {
     "name": "stdout",
     "output_type": "stream",
     "text": [
      "part-time-job 0.514285714286\n",
      "'most important feature': part time\n",
      "full-time-job 0.470149253731\n",
      "'most important feature': full\n",
      "hourly-wage 0.530303030303\n",
      "'most important feature': hour\n",
      "salary 0.411764705882\n",
      "'most important feature': salari\n",
      "associate-needed 0.1\n",
      "'most important feature': associ degre\n",
      "bs-degree-needed 0.774869109948\n",
      "'most important feature': bachelor\n",
      "ms-or-phd-needed 0.153846153846\n",
      "'most important feature': master\n",
      "licence-needed 0.472727272727\n",
      "'most important feature': licens\n",
      "1-year-experience-needed 0.0\n",
      "'most important feature': one year\n",
      "2-4-years-experience-needed 0.436363636364\n",
      "'most important feature': year\n",
      "5-plus-years-experience-needed 0.561403508772\n",
      "'most important feature': year\n",
      "supervising-job 0.558303886926\n",
      "'most important feature': supervis\n"
     ]
    }
   ],
   "source": [
    "other_predictions = []\n",
    "\n",
    "clf_pipeline_rest = Pipeline(\n",
    "            [(\"vectorizer\", CountVectorizer(ngram_range=(1,3))),\n",
    "            (\"tfidf\", TfidfTransformer(use_idf=False)),\n",
    "            (\"classifier\", LinearSVC(C=10))]\n",
    "        )\n",
    "\n",
    "for t in xrange(len(tags)):\n",
    "    clf_pipeline_rest.fit(X_train, y_train[:,t])\n",
    "    local_prediction = clf_pipeline_rest.predict(X_test)\n",
    "    other_predictions.append(local_prediction)\n",
    "    \n",
    "    print tags[t], f1_score(y_test[:,t],local_prediction)\n",
    "    \n",
    "    most_imp = np.argmax(clf_pipeline_rest.steps[2][1].coef_)\n",
    "    vocabulary = clf_pipeline_rest.steps[0][1].vocabulary_\n",
    "    for i in vocabulary.keys():\n",
    "        if vocabulary[i] == most_imp:\n",
    "            print '\\'most important feature\\':', i\n",
    "\n",
    "other_predictions = np.array(other_predictions).T"
   ]
  },
  {
   "cell_type": "markdown",
   "metadata": {},
   "source": [
    "We see that tags about years of experience has the same most important features. It explains bad score at this tags. Multiclass classification at experience features should help."
   ]
  },
  {
   "cell_type": "code",
   "execution_count": 29,
   "metadata": {
    "collapsed": false
   },
   "outputs": [
    {
     "data": {
      "text/plain": [
       "(0.603578154425612, 0.47271386430678464, 0.5301902398676592)"
      ]
     },
     "execution_count": 29,
     "metadata": {},
     "output_type": "execute_result"
    }
   ],
   "source": [
    "#use all multiclass\n",
    "matrix_predictions = np.hstack((predictions_job, other_predictions[:,2:5], predictions_edu, \n",
    "                                other_predictions[:,7:8], predictions_exp, other_predictions[:, 11:12]))\n",
    "score(matrix_predictions, y_test, tags)"
   ]
  },
  {
   "cell_type": "code",
   "execution_count": 30,
   "metadata": {
    "collapsed": false
   },
   "outputs": [
    {
     "data": {
      "text/plain": [
       "(0.6242171189979123, 0.4410029498525074, 0.5168539325842697)"
      ]
     },
     "execution_count": 30,
     "metadata": {},
     "output_type": "execute_result"
    }
   ],
   "source": [
    "#use job and edu multiclass\n",
    "matrix_predictions = np.hstack((predictions_job, other_predictions[:,2:5], predictions_edu, \n",
    "                                other_predictions[:,7:]))\n",
    "score(matrix_predictions, y_test, tags)"
   ]
  },
  {
   "cell_type": "code",
   "execution_count": 31,
   "metadata": {
    "collapsed": false
   },
   "outputs": [
    {
     "data": {
      "text/plain": [
       "(0.6069364161849711, 0.4646017699115044, 0.5263157894736842)"
      ]
     },
     "execution_count": 31,
     "metadata": {},
     "output_type": "execute_result"
    }
   ],
   "source": [
    "#use exp and edu multiclass\n",
    "matrix_predictions = np.hstack((other_predictions[:,:5], predictions_edu, \n",
    "                                other_predictions[:,7:8], predictions_exp, other_predictions[:, 11:12]))\n",
    "score(matrix_predictions, y_test, tags)"
   ]
  },
  {
   "cell_type": "markdown",
   "metadata": {},
   "source": [
    "Tried but wasn't helpful:"
   ]
  },
  {
   "cell_type": "code",
   "execution_count": 32,
   "metadata": {
    "collapsed": false
   },
   "outputs": [
    {
     "data": {
      "text/plain": [
       "(0.604739336492891, 0.47050147492625366, 0.5292409788469514)"
      ]
     },
     "execution_count": 32,
     "metadata": {},
     "output_type": "execute_result"
    }
   ],
   "source": [
    "#use job and exp multiclass\n",
    "matrix_predictions = np.hstack((predictions_job, other_predictions[:,2:8],  \n",
    "                                predictions_exp, other_predictions[:, 11:12]))\n",
    "score(matrix_predictions, y_test, tags)"
   ]
  },
  {
   "cell_type": "code",
   "execution_count": 33,
   "metadata": {
    "collapsed": false
   },
   "outputs": [
    {
     "data": {
      "text/plain": [
       "(0.6256572029442692, 0.4387905604719764, 0.5158214130905937)"
      ]
     },
     "execution_count": 33,
     "metadata": {},
     "output_type": "execute_result"
    }
   ],
   "source": [
    "#use only job multiclass:\n",
    "matrix_predictions = np.hstack((predictions_job, other_predictions[:,2:]))\n",
    "score(matrix_predictions, y_test, tags)"
   ]
  },
  {
   "cell_type": "code",
   "execution_count": 34,
   "metadata": {
    "collapsed": false
   },
   "outputs": [
    {
     "data": {
      "text/plain": [
       "(0.6284796573875803, 0.43289085545722716, 0.5126637554585153)"
      ]
     },
     "execution_count": 34,
     "metadata": {},
     "output_type": "execute_result"
    }
   ],
   "source": [
    "#use only edu multiclass:\n",
    "matrix_predictions = np.hstack((other_predictions[:,:5], predictions_edu, \n",
    "                                other_predictions[:,7:]))\n",
    "score(matrix_predictions, y_test, tags)"
   ]
  },
  {
   "cell_type": "code",
   "execution_count": 35,
   "metadata": {
    "collapsed": false
   },
   "outputs": [
    {
     "data": {
      "text/plain": [
       "(0.6081474296799224, 0.46238938053097345, 0.5253456221198156)"
      ]
     },
     "execution_count": 35,
     "metadata": {},
     "output_type": "execute_result"
    }
   ],
   "source": [
    "#use only exp multiclass\n",
    "matrix_predictions = np.hstack((other_predictions[:,:8], predictions_exp, other_predictions[:, 11:12]))\n",
    "score(matrix_predictions, y_test, tags)"
   ]
  },
  {
   "cell_type": "markdown",
   "metadata": {
    "collapsed": true
   },
   "source": [
    "Let's look at predictions at random description from X_test"
   ]
  },
  {
   "cell_type": "code",
   "execution_count": 40,
   "metadata": {
    "collapsed": true
   },
   "outputs": [],
   "source": [
    "def get_tags(prediction):\n",
    "    tag_list = []\n",
    "    for i,t in enumerate(tags):\n",
    "        if prediction[i] == 1:\n",
    "            tag_list.append(t)\n",
    "    return ' '.join(tag_list)"
   ]
  },
  {
   "cell_type": "code",
   "execution_count": 36,
   "metadata": {
    "collapsed": false
   },
   "outputs": [
    {
     "data": {
      "text/plain": [
       "(0.603578154425612, 0.47271386430678464, 0.5301902398676592)"
      ]
     },
     "execution_count": 36,
     "metadata": {},
     "output_type": "execute_result"
    }
   ],
   "source": [
    "#use all multiclass\n",
    "matrix_predictions = np.hstack((predictions_job, other_predictions[:,2:5], predictions_edu, \n",
    "                                other_predictions[:,7:8], predictions_exp, other_predictions[:, 11:12]))\n",
    "score(matrix_predictions, y_test, tags)"
   ]
  },
  {
   "cell_type": "code",
   "execution_count": 56,
   "metadata": {
    "collapsed": false
   },
   "outputs": [
    {
     "data": {
      "text/plain": [
       "'bs-degree-needed 2-4-years-experience-needed'"
      ]
     },
     "execution_count": 56,
     "metadata": {},
     "output_type": "execute_result"
    }
   ],
   "source": [
    "get_tags(matrix_predictions[25])"
   ]
  },
  {
   "cell_type": "code",
   "execution_count": 57,
   "metadata": {
    "collapsed": false
   },
   "outputs": [
    {
     "data": {
      "text/plain": [
       "u'junior web design will primarili assist in process a high volum of product imag follow a strict guid standard. this posit work with the sr. design on market collater such as advertisements, sale promotions, web support and email projects, as well as imag retouching. the posit initi design, primarili work under creativ direct from senior team members. must have creativ abil and be abl to follow instructions, work on multipl project simultaneously, and maintain attent to detail. the posit requir keen typograph skill as well as full knowledg of prepar file for export and web. the appropri candid will thrive in a fast-paced, deadline-ori environment.  *responsibilities:* * crop and basic photo retouch of product images. * manag multipl workflow in a deadlin driven environment. * strong communic skill * assist maintain e-commerc website, promot materi and email market campaigns.\\u200b  * formul layout for design & visual communic that will detail style, fonts, artwork, graphics.\\u200b * maintain imag librari & organiz hierarchi for imag librari * assist the sr. design with product includ format and updat of file  * excel understand of the design, print product and web product process  *requir skills:* * profici in adob photoshop, indesign, and illustr * work knowledg of adob lightroom and apertur * bachelor degre in graphic design or relat field.\\u200b * html/css knowledg a plus * understand of web standard and best practices.\\u200b * portfolio demonstr both graphic design principl and technic expertise.\\u200b'"
      ]
     },
     "execution_count": 57,
     "metadata": {},
     "output_type": "execute_result"
    }
   ],
   "source": [
    "X_test.values[25]"
   ]
  },
  {
   "cell_type": "code",
   "execution_count": 48,
   "metadata": {
    "collapsed": false
   },
   "outputs": [
    {
     "data": {
      "text/plain": [
       "'salary supervising-job'"
      ]
     },
     "execution_count": 48,
     "metadata": {},
     "output_type": "execute_result"
    }
   ],
   "source": [
    "get_tags(matrix_predictions[4])"
   ]
  },
  {
   "cell_type": "code",
   "execution_count": 52,
   "metadata": {
    "collapsed": false
   },
   "outputs": [
    {
     "data": {
      "text/plain": [
       "u'passag malibu, a drug and alcohol treatment center is seek an experienc controller.   you will be primarili respons for financi reporting, budgeting, project models, busi plans, and manag a staff of 6.   the posit requir a hand on approach with staff both in and out of your department. leadership and the abil to problem solv is a must.   minimum of 5 year controller/senior account execut experi is required. activ cpa required; mba preferred. healthcar experi is a plus, but not mandatory.   ideally, you will have work in a compani that has over 100 employe and $50 mil in revenue.   this role offer a competit base salary, health benefits, paid vacat and holidays.  the posit provid an outstand work environ in malibu.  salari up to $150k base on experience.   qualifi candid are encourag to respond to this job posting. pleas enclos a current resum and cover letter detail salari history.   all inquir are held in strict confidence.'"
      ]
     },
     "execution_count": 52,
     "metadata": {},
     "output_type": "execute_result"
    }
   ],
   "source": [
    "X_test.values[4]"
   ]
  },
  {
   "cell_type": "code",
   "execution_count": 53,
   "metadata": {
    "collapsed": false
   },
   "outputs": [
    {
     "data": {
      "text/plain": [
       "'full-time-job hourly-wage'"
      ]
     },
     "execution_count": 53,
     "metadata": {},
     "output_type": "execute_result"
    }
   ],
   "source": [
    "get_tags(matrix_predictions[10])"
   ]
  },
  {
   "cell_type": "code",
   "execution_count": 54,
   "metadata": {
    "collapsed": false
   },
   "outputs": [
    {
     "data": {
      "text/plain": [
       "u'we are in need of b-lingual candid to work in a inbound call center to answer question from the general public regard govern programs. work shift between 7:00 a.m and 7:00 p.m this is a long, long term temporari assign with paid vacation, paid holidays, and referr fees. assign in a profession environ downtown baltimor access to public transportation.  . this is not a telemarket position, collect or sales. this is a genuin custom servic position. in downtown baltimor work 40 hour a week this is a sever year contract. pay rate is $12.91 per hour.  if you have excel custom servic skills, speak spanish fluentli and abl to read and speak english with keyboard skill .  you do not have to have call center experience. if you work in the food industry, hospit  field, and retail but do not have ani experi work in an offic this is your opportun to go in to offic work. pleas submit your resum as soon as possibl call center open on august 1st, paid train in july.'"
      ]
     },
     "execution_count": 54,
     "metadata": {},
     "output_type": "execute_result"
    }
   ],
   "source": [
    "X_test.values[10]"
   ]
  },
  {
   "cell_type": "code",
   "execution_count": null,
   "metadata": {
    "collapsed": true
   },
   "outputs": [],
   "source": []
  }
 ],
 "metadata": {
  "kernelspec": {
   "display_name": "Python 2",
   "language": "python",
   "name": "python2"
  },
  "language_info": {
   "codemirror_mode": {
    "name": "ipython",
    "version": 2
   },
   "file_extension": ".py",
   "mimetype": "text/x-python",
   "name": "python",
   "nbconvert_exporter": "python",
   "pygments_lexer": "ipython2",
   "version": "2.7.12"
  }
 },
 "nbformat": 4,
 "nbformat_minor": 2
}
